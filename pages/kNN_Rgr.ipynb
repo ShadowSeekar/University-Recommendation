{
 "cells": [
  {
   "cell_type": "code",
   "execution_count": 4,
   "metadata": {},
   "outputs": [
    {
     "name": "stdout",
     "output_type": "stream",
     "text": [
      "Cross-validation scores: [1.         1.         1.         1.         0.93785989 0.90895003\n",
      " 1.         1.         1.         1.        ]\n",
      "Mean score: 0.9846809920050206\n",
      "Institution: University Of Arizona, Chance of Admit: 0.8457142857142858\n",
      "Institution: Tufts University, Chance of Admit: 0.8328571428571429\n",
      "Institution: Princeton University, Chance of Admit: 0.8242857142857142\n",
      "Institution: Northeastern University, Chance of Admit: 0.8071428571428572\n",
      "Institution: UIUC, Chance of Admit: 0.8\n",
      "R2 score: 1.0\n"
     ]
    }
   ],
   "source": [
    "import pandas as pd\n",
    "import numpy as np\n",
    "from sklearn.neighbors import KNeighborsRegressor\n",
    "from sklearn.preprocessing import StandardScaler\n",
    "from sklearn.model_selection import GridSearchCV, cross_val_score\n",
    "import pickle\n",
    "\n",
    "# Load the dataset\n",
    "df = pd.read_csv('student_data.csv')\n",
    "\n",
    "# Separate the features and target variable\n",
    "X = df[['GRE Score', 'TOEFL Score', 'SOP', 'LOR', 'CGPA', 'Research']]\n",
    "y = df['Chance of Admit']\n",
    "\n",
    "# Scale the features\n",
    "scaler = StandardScaler()\n",
    "X = scaler.fit_transform(X)\n",
    "\n",
    "# Define the k-NN Regression model\n",
    "knn = KNeighborsRegressor()\n",
    "\n",
    "# Define the hyperparameters to tune\n",
    "param_grid = {\n",
    "    'n_neighbors': [3, 5, 7, 9, 11],\n",
    "    'weights': ['uniform', 'distance'],\n",
    "    'algorithm': ['ball_tree', 'kd_tree', 'brute']\n",
    "}\n",
    "\n",
    "# Perform grid search to find the best hyperparameters\n",
    "grid_search = GridSearchCV(knn, param_grid=param_grid, cv=10)\n",
    "grid_search.fit(X, y)\n",
    "knn = grid_search.best_estimator_\n",
    "\n",
    "# Evaluate the performance of the model using cross-validation\n",
    "scores = cross_val_score(knn, X, y, cv=10)\n",
    "print('Cross-validation scores:', scores)\n",
    "print('Mean score:', np.mean(scores))\n",
    "\n",
    "# Generate predictions for all institutions\n",
    "df['Predicted Chance of Admit'] = knn.predict(X)\n",
    "\n",
    "# Group by institution and sort by predicted chance of admit\n",
    "df_grouped = df.groupby('Institution').mean().sort_values(by='Predicted Chance of Admit', ascending=False)\n",
    "\n",
    "# Print the top 5 institutions and their respective chances of admission\n",
    "top_institutions = df_grouped.index.values[:5]\n",
    "for institution in top_institutions:\n",
    "    chance_of_admit = df_grouped.loc[institution]['Predicted Chance of Admit']\n",
    "    print(f\"Institution: {institution}, Chance of Admit: {chance_of_admit}\")\n",
    "\n",
    "# Calculate the R2 score\n",
    "r2 = knn.score(X, y)\n",
    "print('R2 score:', r2)"
   ]
  },
  {
   "cell_type": "code",
   "execution_count": 5,
   "metadata": {},
   "outputs": [],
   "source": [
    "# Save the model to disk\n",
    "filename = 'kNNr_model.pkl'\n",
    "with open(filename, 'wb') as file:\n",
    "    pickle.dump(knn, file)"
   ]
  },
  {
   "cell_type": "code",
   "execution_count": 10,
   "metadata": {},
   "outputs": [
    {
     "name": "stdout",
     "output_type": "stream",
     "text": [
      "Enter the values of the following features:\n",
      "Predicted chance of admission: 0.94\n",
      "\n",
      "Top 5 institutions that have predicted chances of admission less than 0.94:\n",
      "Institution: University Of Arizona, Chance of Admit: 0.85\n",
      "Institution: Tufts University, Chance of Admit: 0.83\n",
      "Institution: Princeton University, Chance of Admit: 0.82\n",
      "Institution: Northeastern University, Chance of Admit: 0.81\n",
      "Institution: UIUC, Chance of Admit: 0.80\n"
     ]
    },
    {
     "name": "stderr",
     "output_type": "stream",
     "text": [
      "c:\\Users\\Asus\\AppData\\Local\\Programs\\Python\\Python311\\Lib\\site-packages\\sklearn\\base.py:439: UserWarning: X does not have valid feature names, but StandardScaler was fitted with feature names\n",
      "  warnings.warn(\n"
     ]
    }
   ],
   "source": [
    "# Load the trained KNN model from disk\n",
    "filename = 'kNNr_model.pkl'\n",
    "with open(filename, 'rb') as file:\n",
    "    knn = pickle.load(file)\n",
    "\n",
    "# Load the dataset used for training the model\n",
    "df_train = pd.read_csv('3.csv')\n",
    "\n",
    "# Separate the features and target variable\n",
    "X_train = df_train[['GRE Score', 'TOEFL Score', 'SOP', 'LOR', 'CGPA', 'Research']]\n",
    "y_train = df_train['Chance of Admit']\n",
    "\n",
    "# Fit a StandardScaler instance to the training data and use it to scale the user input\n",
    "scaler = StandardScaler()\n",
    "scaler.fit(X_train)\n",
    "\n",
    "# Prompt the user to enter values for the input features\n",
    "user_input = []\n",
    "print(\"Enter the values of the following features:\")\n",
    "for feature in X_train.columns:\n",
    "    value = input(f\"{feature}: \")\n",
    "    user_input.append(float(value))\n",
    "user_input = np.array(user_input).reshape(1, -1)\n",
    "user_input = scaler.transform(user_input)\n",
    "\n",
    "# Use the KNN model to make predictions on the user input\n",
    "predicted_chance_of_admit = knn.predict(user_input)[0]\n",
    "print(f\"Predicted chance of admission: {predicted_chance_of_admit:.2f}\")\n",
    "\n",
    "# Group by institution and sort by predicted chance of admit\n",
    "df_grouped = df_train.groupby('Institution').mean().sort_values(by='Chance of Admit', ascending=False)\n",
    "\n",
    "# Print the top 5 institutions that have predicted chances of admission less than the user input\n",
    "top_institutions = df_grouped[df_grouped['Chance of Admit'] < predicted_chance_of_admit].index.values[:5]\n",
    "if len(top_institutions) == 0:\n",
    "    print(\"No institutions found with predicted chance of admission less than the user input.\")\n",
    "else:\n",
    "    print(f\"\\nTop {len(top_institutions)} institutions that have predicted chances of admission less than {predicted_chance_of_admit:.2f}:\")\n",
    "    for institution in top_institutions:\n",
    "        chance_of_admit = df_grouped.loc[institution]['Chance of Admit']\n",
    "        print(f\"Institution: {institution}, Chance of Admit: {chance_of_admit:.2f}\")\n"
   ]
  }
 ],
 "metadata": {
  "kernelspec": {
   "display_name": "Python 3",
   "language": "python",
   "name": "python3"
  },
  "language_info": {
   "codemirror_mode": {
    "name": "ipython",
    "version": 3
   },
   "file_extension": ".py",
   "mimetype": "text/x-python",
   "name": "python",
   "nbconvert_exporter": "python",
   "pygments_lexer": "ipython3",
   "version": "3.11.2"
  },
  "orig_nbformat": 4
 },
 "nbformat": 4,
 "nbformat_minor": 2
}
